{
 "cells": [
  {
   "cell_type": "markdown",
   "metadata": {},
   "source": [
    "# mlp\n",
    "\n",
    "> Building blocks for Mulit Layer Perceptron network"
   ]
  },
  {
   "cell_type": "code",
   "execution_count": null,
   "metadata": {},
   "outputs": [],
   "source": [
    "# | default_exp mlp"
   ]
  },
  {
   "cell_type": "code",
   "execution_count": null,
   "metadata": {},
   "outputs": [],
   "source": [
    "# | hide\n",
    "from nbdev.showdoc import *\n",
    "from fastcore.test import *"
   ]
  },
  {
   "cell_type": "code",
   "execution_count": null,
   "metadata": {},
   "outputs": [],
   "source": [
    "# | export\n",
    "from fastcore.utils import *\n",
    "import pandas as pd\n",
    "import numpy as np\n",
    "import matplotlib.pyplot as plt"
   ]
  },
  {
   "cell_type": "code",
   "execution_count": null,
   "metadata": {},
   "outputs": [],
   "source": [
    "# | export\n",
    "class Perceptron:\n",
    "    \"A perceptron model\"\n",
    "\n",
    "    def __init__(\n",
    "        self,\n",
    "        no_of_inputs: int,\n",
    "        no_of_iterations: int = 1000,\n",
    "        learning_rate: float = 0.1\n",
    "    ) -> None:\n",
    "        self.no_of_inputs = no_of_inputs\n",
    "        self.no_of_iterations = no_of_iterations\n",
    "        self.learning_rate = learning_rate\n",
    "        self.weights = np.zeros(self.no_of_inputs + 1) ## TODO change to random values close to 0\n",
    "\n",
    "    def __str__(self) -> str:\n",
    "        \"When printing show current `weights`\"\n",
    "        return f\"{self.weights}\"\n",
    "\n",
    "    __repr__ = __str__  # Same jupyter representation as print\n"
   ]
  },
  {
   "attachments": {},
   "cell_type": "markdown",
   "metadata": {},
   "source": [
    "Example dataset:"
   ]
  },
  {
   "cell_type": "code",
   "execution_count": null,
   "metadata": {},
   "outputs": [
    {
     "data": {
      "text/html": [
       "<div>\n",
       "<style scoped>\n",
       "    .dataframe tbody tr th:only-of-type {\n",
       "        vertical-align: middle;\n",
       "    }\n",
       "\n",
       "    .dataframe tbody tr th {\n",
       "        vertical-align: top;\n",
       "    }\n",
       "\n",
       "    .dataframe thead th {\n",
       "        text-align: right;\n",
       "    }\n",
       "</style>\n",
       "<table border=\"1\" class=\"dataframe\">\n",
       "  <thead>\n",
       "    <tr style=\"text-align: right;\">\n",
       "      <th></th>\n",
       "      <th>x1</th>\n",
       "      <th>x2</th>\n",
       "      <th>y</th>\n",
       "    </tr>\n",
       "  </thead>\n",
       "  <tbody>\n",
       "    <tr>\n",
       "      <th>0</th>\n",
       "      <td>1</td>\n",
       "      <td>0</td>\n",
       "      <td>1</td>\n",
       "    </tr>\n",
       "    <tr>\n",
       "      <th>1</th>\n",
       "      <td>1</td>\n",
       "      <td>1</td>\n",
       "      <td>1</td>\n",
       "    </tr>\n",
       "    <tr>\n",
       "      <th>2</th>\n",
       "      <td>0</td>\n",
       "      <td>1</td>\n",
       "      <td>0</td>\n",
       "    </tr>\n",
       "  </tbody>\n",
       "</table>\n",
       "</div>"
      ],
      "text/plain": [
       "   x1  x2  y\n",
       "0   1   0  1\n",
       "1   1   1  1\n",
       "2   0   1  0"
      ]
     },
     "execution_count": null,
     "metadata": {},
     "output_type": "execute_result"
    }
   ],
   "source": [
    "df = pd.DataFrame([[1, 0, 1],[1, 1, 1],[0, 1, 0]])\n",
    "df.columns = ['x1', 'x2', 'y']\n",
    "groups = df.groupby('y')\n",
    "df"
   ]
  },
  {
   "attachments": {},
   "cell_type": "markdown",
   "metadata": {},
   "source": [
    "Here's how it looks like"
   ]
  },
  {
   "cell_type": "code",
   "execution_count": null,
   "metadata": {},
   "outputs": [
    {
     "data": {
      "image/png": "[encoded data removed]",
      "text/plain": [
       "<Figure size 640x480 with 1 Axes>"
      ]
     },
     "metadata": {},
     "output_type": "display_data"
    }
   ],
   "source": [
    "fig, ax = plt.subplots()\n",
    "for name, group in groups:\n",
    "    ax.plot(group.x1, group.x2, marker='o', label=name, linestyle='')"
   ]
  },
  {
   "attachments": {},
   "cell_type": "markdown",
   "metadata": {},
   "source": [
    "Here's an example of creating and displaying `Perceptron` by displaying we mean showing its `weights`. At the beggining all weights are initialized by `0`"
   ]
  },
  {
   "cell_type": "code",
   "execution_count": null,
   "metadata": {},
   "outputs": [
    {
     "data": {
      "text/plain": [
       "[0. 0. 0.]"
      ]
     },
     "execution_count": null,
     "metadata": {},
     "output_type": "execute_result"
    }
   ],
   "source": [
    "p = Perceptron(2)\n",
    "p"
   ]
  },
  {
   "attachments": {},
   "cell_type": "markdown",
   "metadata": {},
   "source": [
    "## Training"
   ]
  },
  {
   "cell_type": "code",
   "execution_count": null,
   "metadata": {},
   "outputs": [],
   "source": [
    "# | export\n",
    "@patch\n",
    "def activation_function(\n",
    "    self: Perceptron,\n",
    "    x: float # Weighted input to neuron\n",
    "):\n",
    "    \"Temporary inner basic activation function -- positivity check\"\n",
    "    if x >= 0:\n",
    "        return 1\n",
    "    else:\n",
    "        return 0\n"
   ]
  },
  {
   "cell_type": "code",
   "execution_count": null,
   "metadata": {},
   "outputs": [],
   "source": [
    "# | export\n",
    "@patch\n",
    "def output(\n",
    "    self: Perceptron,\n",
    "    x # Values in columns from input data\n",
    "):\n",
    "    \"Output from neuron `f(x^Tw)`\"\n",
    "    return self.activation_function(np.dot(self.weights[1:], x) + self.weights[0])\n"
   ]
  },
  {
   "cell_type": "code",
   "execution_count": null,
   "metadata": {},
   "outputs": [],
   "source": [
    "#| export\n",
    "@patch\n",
    "def train(\n",
    "        self:Perceptron,\n",
    "        data_x, # Input data columns\n",
    "        data_y # Correct labels\n",
    "):\n",
    "    \"Training loop repeted `no_of_iterations` times\"\n",
    "    for _ in range(self.no_of_iterations):\n",
    "        # ZAD. DOM losowanie przykładów\n",
    "        for x, y in zip(data_x, data_y):\n",
    "            prediction = self.output(x)\n",
    "            self.weights[1:] += self.learning_rate * (y - prediction) * x\n",
    "            self.weights[0] += self.learning_rate * (y - prediction)"
   ]
  },
  {
   "attachments": {},
   "cell_type": "markdown",
   "metadata": {},
   "source": [
    "Let's train our model on previous example dataset and check how the `weights` will change"
   ]
  },
  {
   "cell_type": "code",
   "execution_count": null,
   "metadata": {},
   "outputs": [
    {
     "data": {
      "text/plain": [
       "[ 0.   0.1 -0.1]"
      ]
     },
     "execution_count": null,
     "metadata": {},
     "output_type": "execute_result"
    }
   ],
   "source": [
    "x = df[[\"x1\",\"x2\"]].to_numpy()\n",
    "y = df[\"y\"].to_numpy()\n",
    "p.train(x, y)\n",
    "p"
   ]
  },
  {
   "attachments": {},
   "cell_type": "markdown",
   "metadata": {},
   "source": [
    "After training is done we can predict outputs and compare it with original labels"
   ]
  },
  {
   "cell_type": "code",
   "execution_count": null,
   "metadata": {},
   "outputs": [
    {
     "name": "stdout",
     "output_type": "stream",
     "text": [
      "1 1\n",
      "1 1\n",
      "0 0\n"
     ]
    }
   ],
   "source": [
    "for xi, l in zip(x, y):\n",
    "    print(l, p.output(xi))"
   ]
  },
  {
   "attachments": {},
   "cell_type": "markdown",
   "metadata": {},
   "source": [
    "We can also plot the line that splits data points"
   ]
  },
  {
   "cell_type": "code",
   "execution_count": null,
   "metadata": {},
   "outputs": [
    {
     "name": "stdout",
     "output_type": "stream",
     "text": [
      "y = 1.0 * x + 0.0\n"
     ]
    },
    {
     "data": {
      "image/png": "[encoded data removed]",
      "text/plain": [
       "<Figure size 640x480 with 1 Axes>"
      ]
     },
     "execution_count": null,
     "metadata": {},
     "output_type": "execute_result"
    }
   ],
   "source": [
    "a = -p.weights[1]/p.weights[2]\n",
    "b = -p.weights[0]/p.weights[2]\n",
    "\n",
    "def f(t):\n",
    "    return a*t + b\n",
    "\n",
    "print(f\"y = {a} * x + {b}\")\n",
    "\n",
    "ax.plot(x, f(x), linestyle='-')\n",
    "fig"
   ]
  },
  {
   "cell_type": "code",
   "execution_count": null,
   "metadata": {},
   "outputs": [
    {
     "data": {
      "text/plain": [
       "'\\n# loop creating one-hot-encoding for numbers and training model\\nnp.ravel(input_number_0-9) # numbers are 7x5 matrices\\nlist_of_10_perceptrons\\nfor i in range(10):\\n    labels = np.zeros(10)\\n    labels[i] = 1\\n    perceptron[i].train(training_data, labels)\\n'"
      ]
     },
     "execution_count": null,
     "metadata": {},
     "output_type": "execute_result"
    }
   ],
   "source": [
    "# | hide\n",
    "## TODO\n",
    "\"\"\"\n",
    "# loop creating one-hot-encoding for numbers and training model\n",
    "np.ravel(input_number_0-9) # numbers are 7x5 matrices\n",
    "list_of_10_perceptrons\n",
    "for i in range(10):\n",
    "    labels = np.zeros(10)\n",
    "    labels[i] = 1\n",
    "    perceptron[i].train(training_data, labels)\n",
    "\"\"\""
   ]
  },
  {
   "cell_type": "code",
   "execution_count": null,
   "metadata": {},
   "outputs": [],
   "source": [
    "# | hide\n",
    "import nbdev\n",
    "\n",
    "nbdev.nbdev_export()"
   ]
  }
 ],
 "metadata": {
  "kernelspec": {
   "display_name": "python3",
   "language": "python",
   "name": "python3"
  }
 },
 "nbformat": 4,
 "nbformat_minor": 4
}
